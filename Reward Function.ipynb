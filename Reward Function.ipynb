{
 "cells": [
  {
   "cell_type": "markdown",
   "id": "af9326c3",
   "metadata": {},
   "source": [
    "# AWS Deepracer Reward Function"
   ]
  },
  {
   "cell_type": "code",
   "execution_count": 2,
   "id": "ea355ae7",
   "metadata": {},
   "outputs": [],
   "source": [
    "def reward_function(params):\n",
    "\n",
    "   import math\n",
    "\n",
    "   radius = 6\n",
    "   x = params['x']\n",
    "   y = params['y']\n",
    "   heading = params['heading']\n",
    "   steering_angle = params[\"steering_angle\"]\n",
    "   waypoints = params['waypoints']\n",
    "   waypoint1 = params['closest_waypoints'][0]\n",
    "   waypoint2 = params['closest_waypoints'][1]\n",
    "   idx = waypoints.index(waypoint1)\n",
    "   waypoint3 =waypoints[idx +radius]\n",
    "\n",
    "   optimal_heading_degree = math.degrees(math.atan2(waypoint3[1] -y ,waypoint3[0]-x))\n",
    "   deviation = abs(optimal_heading_degree-(heading + steering_angle))\n",
    "\n",
    "   if deviation>0:\n",
    "       reward = 1/deviation\n",
    "   else:\n",
    "       reward =  1e-3\n",
    "       \n",
    "   return float(reward)\n",
    "\n",
    "\n",
    "def reward_function(params):\n",
    "\n",
    "    # Read input parameters\n",
    "    track_width = params['track_width']\n",
    "    distance_from_center = params['distance_from_center']\n",
    "    progress = params['progress']\n",
    "    if params['steps'] == 2:\n",
    "        last.progress = 0.0\n",
    "    x = progress - last.progress\n",
    "    last.progress = progress\n",
    "\n",
    "    # Calculate 3 markers that are increasingly further away from the center line\n",
    "    marker_1 = 0.1 * track_width\n",
    "    marker_2 = 0.25 * track_width\n",
    "    marker_3 = 0.5 * track_width\n",
    "\n",
    "    # Give higher reward if the car is closer to center line and vice versa\n",
    "    if distance_from_center <= marker_1:\n",
    "        reward = 1\n",
    "    elif distance_from_center <= marker_2:\n",
    "        reward = 0.5\n",
    "    elif distance_from_center <= marker_3:\n",
    "        reward = 0.1\n",
    "    else:\n",
    "        reward = 1e-3  # likely crashed/ close to off track\n",
    "\n",
    "    return x*reward"
   ]
  },
  {
   "cell_type": "code",
   "execution_count": null,
   "id": "c475b005",
   "metadata": {},
   "outputs": [],
   "source": []
  }
 ],
 "metadata": {
  "kernelspec": {
   "display_name": "Python 3 (ipykernel)",
   "language": "python",
   "name": "python3"
  },
  "language_info": {
   "codemirror_mode": {
    "name": "ipython",
    "version": 3
   },
   "file_extension": ".py",
   "mimetype": "text/x-python",
   "name": "python",
   "nbconvert_exporter": "python",
   "pygments_lexer": "ipython3",
   "version": "3.9.1"
  }
 },
 "nbformat": 4,
 "nbformat_minor": 5
}
